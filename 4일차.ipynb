{
 "cells": [
  {
   "cell_type": "code",
   "execution_count": 1,
   "metadata": {},
   "outputs": [],
   "source": [
    "# 타겟 데이터(종속변수) : 1년 뒤 측정한 당뇨병의 진행률\n",
    "# 특징 데이터(독립변수) : 이 데이터셋의 특징 데이터는 모두 정규화된 값이다.\n",
    "# Age, Sex, Body mass index, Average blood pressure, S1, S2, S3, S4, S5, S6\n",
    "from sklearn import datasets, linear_model\n",
    "from sklearn.model_selection import cross_val_score\n",
    "from sklearn.model_selection import KFold # 추가\n",
    "\n",
    "diabetes = datasets.load_diabetes() # 당뇨병 데이터셋 로드\n",
    "X = diabetes.data[:150]\n",
    "y = diabetes.target[:150]\n",
    "lasso = linear_model.Lasso()"
   ]
  },
  {
   "cell_type": "code",
   "execution_count": 8,
   "metadata": {},
   "outputs": [
    {
     "name": "stdout",
     "output_type": "stream",
     "text": [
      "[0.15826679 0.27107089 0.31454216 0.31624534 0.31669814]\n"
     ]
    }
   ],
   "source": [
    "cv = KFold(5, shuffle=True, random_state=1) # 추가\n",
    "print(cross_val_score(lasso, X, y, cv=cv))   # 수정"
   ]
  },
  {
   "cell_type": "code",
   "execution_count": 9,
   "metadata": {},
   "outputs": [
    {
     "data": {
      "text/plain": [
       "Lasso(alpha=1.0, copy_X=True, fit_intercept=True, max_iter=1000,\n",
       "   normalize=False, positive=False, precompute=False, random_state=None,\n",
       "   selection='cyclic', tol=0.0001, warm_start=False)"
      ]
     },
     "execution_count": 9,
     "metadata": {},
     "output_type": "execute_result"
    }
   ],
   "source": [
    "from sklearn import datasets, linear_model\n",
    "from sklearn.model_selection import cross_val_score\n",
    "diabetes = datasets.load_diabetes()\n",
    "X = diabetes.data[:150]\n",
    "y = diabetes.target[:150]\n",
    "lasso = linear_model.Lasso()\n",
    "lasso"
   ]
  },
  {
   "cell_type": "code",
   "execution_count": 10,
   "metadata": {},
   "outputs": [
    {
     "name": "stdout",
     "output_type": "stream",
     "text": [
      "[0.33150734 0.08022311 0.03531764]\n"
     ]
    }
   ],
   "source": [
    "print(cross_val_score(lasso, X, y, cv=3))"
   ]
  },
  {
   "cell_type": "code",
   "execution_count": 14,
   "metadata": {
    "scrolled": true
   },
   "outputs": [
    {
     "name": "stderr",
     "output_type": "stream",
     "text": [
      "c:\\machine_learning\\python_source\\pythontest\\venv\\lib\\site-packages\\sklearn\\svm\\base.py:196: FutureWarning: The default value of gamma will change from 'auto' to 'scale' in version 0.22 to account better for unscaled features. Set gamma explicitly to 'auto' or 'scale' to avoid this warning.\n",
      "  \"avoid this warning.\", FutureWarning)\n"
     ]
    },
    {
     "name": "stdout",
     "output_type": "stream",
     "text": [
      "정답률 = 0.7884231536926147\n",
      "리포트 =\n",
      "              precision    recall  f1-score   support\n",
      "\n",
      "           0       0.87      0.93      0.90        42\n",
      "           1       0.81      1.00      0.89        67\n",
      "           2       0.84      0.69      0.76        55\n",
      "           3       0.87      0.57      0.68        46\n",
      "           4       0.76      0.75      0.75        55\n",
      "           5       0.63      0.80      0.71        50\n",
      "           6       0.97      0.67      0.79        43\n",
      "           7       0.74      0.86      0.79        49\n",
      "           8       0.91      0.72      0.81        40\n",
      "           9       0.71      0.81      0.76        54\n",
      "\n",
      "   micro avg       0.79      0.79      0.79       501\n",
      "   macro avg       0.81      0.78      0.78       501\n",
      "weighted avg       0.80      0.79      0.79       501\n",
      "\n"
     ]
    }
   ],
   "source": [
    "from sklearn import svm, metrics\n",
    "# CSV 파일을 읽어 들이고 가공하기 --- (※1)\n",
    "def load_csv(fname):\n",
    "    labels = []\n",
    "    images = []\n",
    "    with open(fname, \"r\") as f:\n",
    "        for line in f:\n",
    "            cols = line.split(\",\")\n",
    "            if len(cols) < 2: continue\n",
    "            labels.append(int(cols.pop(0))) # 라벨(정답) 추출\n",
    "            vals = list(map(lambda n: int(n) / 256, cols)) # 테스트할 데이터 가공\n",
    "            images.append(vals)\n",
    "    return {\"labels\":labels, \"images\":images}\n",
    "data = load_csv(\"train.csv\")\n",
    "test = load_csv(\"t10k.csv\")\n",
    "# 학습하기 --- (※2)\n",
    "clf = svm.SVC()\n",
    "clf.fit(data[\"images\"], data[\"labels\"])\n",
    "# 예측하기 --- (※3)\n",
    "predict = clf.predict(test[\"images\"])\n",
    "# 결과 확인하기 --- (※4)\n",
    "ac_score = metrics.accuracy_score(test[\"labels\"], predict)\n",
    "cl_report = metrics.classification_report(test[\"labels\"], predict)\n",
    "print(\"정답률 =\", ac_score)\n",
    "print(\"리포트 =\")\n",
    "print(cl_report)"
   ]
  },
  {
   "cell_type": "code",
   "execution_count": 15,
   "metadata": {
    "scrolled": true
   },
   "outputs": [
    {
     "name": "stdout",
     "output_type": "stream",
     "text": [
      "학습 데이터의 수 = 1000\n"
     ]
    },
    {
     "name": "stderr",
     "output_type": "stream",
     "text": [
      "c:\\machine_learning\\python_source\\pythontest\\venv\\lib\\site-packages\\sklearn\\model_selection\\_split.py:2053: FutureWarning: You should specify a value for 'cv' instead of relying on the default value. The default value will change from 3 to 5 in version 0.22.\n",
      "  warnings.warn(CV_WARNING, FutureWarning)\n"
     ]
    },
    {
     "name": "stdout",
     "output_type": "stream",
     "text": [
      "학습기 = SVC(C=1, cache_size=200, class_weight=None, coef0=0.0,\n",
      "  decision_function_shape='ovr', degree=3, gamma='auto_deprecated',\n",
      "  kernel='linear', max_iter=-1, probability=False, random_state=None,\n",
      "  shrinking=True, tol=0.001, verbose=False)\n",
      "정답률 = 0.868\n",
      "리포트 =\n",
      "              precision    recall  f1-score   support\n",
      "\n",
      "           0       0.91      0.93      0.92        42\n",
      "           1       0.97      1.00      0.99        67\n",
      "           2       0.86      0.93      0.89        55\n",
      "           3       0.84      0.80      0.82        46\n",
      "           4       0.89      0.89      0.89        55\n",
      "           5       0.72      0.84      0.78        50\n",
      "           6       0.95      0.86      0.90        43\n",
      "           7       0.80      0.83      0.82        48\n",
      "           8       0.91      0.72      0.81        40\n",
      "           9       0.84      0.80      0.82        54\n",
      "\n",
      "   micro avg       0.87      0.87      0.87       500\n",
      "   macro avg       0.87      0.86      0.86       500\n",
      "weighted avg       0.87      0.87      0.87       500\n",
      "\n"
     ]
    }
   ],
   "source": [
    "import pandas as pd\n",
    "from sklearn import svm, metrics\n",
    "from sklearn.model_selection import GridSearchCV\n",
    "# MNIST 학습 데이터 읽어 들이기 --- (※1)\n",
    "train_csv = pd.read_csv(\"train.csv\")\n",
    "test_csv  = pd.read_csv(\"t10k.csv\")\n",
    "# 필요한 열 추출하기 --- (※2)\n",
    "train_label = train_csv.iloc[:, 0]\n",
    "train_data  = train_csv.iloc[:, 1:785]\n",
    "test_label  = test_csv.iloc[:, 0]\n",
    "test_data   = test_csv.iloc[:, 1:785]\n",
    "print(\"학습 데이터의 수 =\", len(train_label))\n",
    "# 그리드 서치 매개변수 설정 --- (※3)\n",
    "params = [ {\"C\":[1,10,100,1000],\"kernel\":[\"linear\"]},\n",
    "           {\"C\":[1,10,100,1000],\"kernel\":[\"rbf\"],\"gamma\":[1,10,100,1000]} ] # gamma:커널의 폭, C : 규제매개변수\n",
    "# 그리드 서치 수행 --- (※4)\n",
    "svc = svm.SVC()\n",
    "clf = GridSearchCV(svc, params)\n",
    "clf.fit(train_data, train_label)\n",
    "print(\"학습기 =\", clf.best_estimator_)\n",
    "# 테스트 데이터 확인하기 --- (※5)\n",
    "pre = clf.predict(test_data)\n",
    "ac_score = metrics.accuracy_score(pre, test_label)\n",
    "cl_report = metrics.classification_report(test_label, pre)\n",
    "print(\"정답률 =\", ac_score)\n",
    "print(\"리포트 =\")\n",
    "print(cl_report)"
   ]
  },
  {
   "cell_type": "code",
   "execution_count": 16,
   "metadata": {},
   "outputs": [
    {
     "data": {
      "text/plain": [
       "Lasso(alpha=1.0, copy_X=True, fit_intercept=True, max_iter=1000,\n",
       "   normalize=False, positive=False, precompute=False, random_state=None,\n",
       "   selection='cyclic', tol=0.0001, warm_start=False)"
      ]
     },
     "execution_count": 16,
     "metadata": {},
     "output_type": "execute_result"
    }
   ],
   "source": [
    "from sklearn import datasets, linear_model\n",
    "from sklearn.model_selection import train_test_split\n",
    "diabetes = datasets.load_diabetes()\n",
    "X = diabetes.data\n",
    "y = diabetes.target\n",
    "x_train, x_test, y_train, y_test = train_test_split(X, y, test_size=0.3)\n",
    "lasso = linear_model.Lasso()\n",
    "model = lasso.fit(x_train, y_train)\n",
    "model"
   ]
  },
  {
   "cell_type": "code",
   "execution_count": 17,
   "metadata": {},
   "outputs": [
    {
     "data": {
      "text/plain": [
       "array([171.4611269 , 129.44041729, 142.91475743, 146.83385518,\n",
       "       139.62741191, 152.98736854, 179.49641977, 136.47006229,\n",
       "       110.62429855, 163.7934063 ])"
      ]
     },
     "execution_count": 17,
     "metadata": {},
     "output_type": "execute_result"
    }
   ],
   "source": [
    "pred = model.predict(x_test)\n",
    "pred[:10]"
   ]
  },
  {
   "cell_type": "code",
   "execution_count": 18,
   "metadata": {},
   "outputs": [
    {
     "data": {
      "text/plain": [
       "3944.0821439586625"
      ]
     },
     "execution_count": 18,
     "metadata": {},
     "output_type": "execute_result"
    }
   ],
   "source": [
    "from sklearn.metrics import mean_squared_error\n",
    "# 손실의 예상 값에 해당하는 위험 메트릭 인 평균 제곱 오류(MSE) 계산\n",
    "mean_squared_error(y_test, pred) "
   ]
  },
  {
   "cell_type": "code",
   "execution_count": 19,
   "metadata": {},
   "outputs": [
    {
     "data": {
      "text/plain": [
       "62.80192786816868"
      ]
     },
     "execution_count": 19,
     "metadata": {},
     "output_type": "execute_result"
    }
   ],
   "source": [
    "import math\n",
    "# 평균 제곱 오류(MSE) 편차.RMSE(Root Mean Square Error)\n",
    "rmse = math.sqrt(mean_squared_error(y_test, pred)) \n",
    "rmse"
   ]
  },
  {
   "cell_type": "code",
   "execution_count": 20,
   "metadata": {},
   "outputs": [
    {
     "data": {
      "text/plain": [
       "51.84074385373616"
      ]
     },
     "execution_count": 20,
     "metadata": {},
     "output_type": "execute_result"
    }
   ],
   "source": [
    "from sklearn.metrics import mean_absolute_error\n",
    "# 평균 절대 오차, l1-norm 손실의 예상 값에 해당하는 위험 척도 계산\n",
    "mean_absolute_error(y_test, pred) "
   ]
  },
  {
   "cell_type": "code",
   "execution_count": 21,
   "metadata": {},
   "outputs": [
    {
     "data": {
      "text/plain": [
       "0.349840250351669"
      ]
     },
     "execution_count": 21,
     "metadata": {},
     "output_type": "execute_result"
    }
   ],
   "source": [
    "from sklearn.metrics import explained_variance_score\n",
    "explained_variance_score(y_test, pred)"
   ]
  },
  {
   "cell_type": "code",
   "execution_count": 22,
   "metadata": {},
   "outputs": [
    {
     "data": {
      "text/plain": [
       "0.34914195722697006"
      ]
     },
     "execution_count": 22,
     "metadata": {},
     "output_type": "execute_result"
    }
   ],
   "source": [
    "from sklearn.metrics import r2_score\n",
    "r2_score(y_test, pred)"
   ]
  },
  {
   "cell_type": "code",
   "execution_count": 33,
   "metadata": {},
   "outputs": [
    {
     "data": {
      "text/plain": [
       "[['소주', '콜라', '와인'],\n",
       " ['소주', '오렌지주스', '콜라'],\n",
       " ['콜라', '맥주', '와인'],\n",
       " ['소주', '콜라', '맥주'],\n",
       " ['오렌지주스', '와인']]"
      ]
     },
     "execution_count": 33,
     "metadata": {},
     "output_type": "execute_result"
    }
   ],
   "source": [
    "import csv\n",
    "with open('basket.csv', 'rt', encoding='UTF8') as cf:\n",
    "    transactions = [] \n",
    "    r = csv.reader(cf)\n",
    "    for row in r:\n",
    "         transactions.append(row)\n",
    "transactions\n"
   ]
  },
  {
   "cell_type": "code",
   "execution_count": 35,
   "metadata": {
    "scrolled": true
   },
   "outputs": [
    {
     "data": {
      "text/plain": [
       "list"
      ]
     },
     "execution_count": 35,
     "metadata": {},
     "output_type": "execute_result"
    }
   ],
   "source": [
    "from apyori import apriori\n",
    "rules = apriori(transactions, min_support=0.1, min_confidence=0.1) \n",
    "results = list(rules) \n",
    "type(results)"
   ]
  },
  {
   "cell_type": "code",
   "execution_count": 36,
   "metadata": {
    "scrolled": true
   },
   "outputs": [
    {
     "data": {
      "text/plain": [
       "[RelationRecord(items=frozenset({'맥주'}), support=0.4, ordered_statistics=[OrderedStatistic(items_base=frozenset(), items_add=frozenset({'맥주'}), confidence=0.4, lift=1.0)]),\n",
       " RelationRecord(items=frozenset({'소주'}), support=0.6, ordered_statistics=[OrderedStatistic(items_base=frozenset(), items_add=frozenset({'소주'}), confidence=0.6, lift=1.0)]),\n",
       " RelationRecord(items=frozenset({'오렌지주스'}), support=0.4, ordered_statistics=[OrderedStatistic(items_base=frozenset(), items_add=frozenset({'오렌지주스'}), confidence=0.4, lift=1.0)]),\n",
       " RelationRecord(items=frozenset({'와인'}), support=0.6, ordered_statistics=[OrderedStatistic(items_base=frozenset(), items_add=frozenset({'와인'}), confidence=0.6, lift=1.0)]),\n",
       " RelationRecord(items=frozenset({'콜라'}), support=0.8, ordered_statistics=[OrderedStatistic(items_base=frozenset(), items_add=frozenset({'콜라'}), confidence=0.8, lift=1.0)]),\n",
       " RelationRecord(items=frozenset({'맥주', '소주'}), support=0.2, ordered_statistics=[OrderedStatistic(items_base=frozenset({'맥주'}), items_add=frozenset({'소주'}), confidence=0.5, lift=0.8333333333333334), OrderedStatistic(items_base=frozenset({'소주'}), items_add=frozenset({'맥주'}), confidence=0.33333333333333337, lift=0.8333333333333334)]),\n",
       " RelationRecord(items=frozenset({'맥주', '와인'}), support=0.2, ordered_statistics=[OrderedStatistic(items_base=frozenset({'맥주'}), items_add=frozenset({'와인'}), confidence=0.5, lift=0.8333333333333334), OrderedStatistic(items_base=frozenset({'와인'}), items_add=frozenset({'맥주'}), confidence=0.33333333333333337, lift=0.8333333333333334)]),\n",
       " RelationRecord(items=frozenset({'맥주', '콜라'}), support=0.4, ordered_statistics=[OrderedStatistic(items_base=frozenset({'맥주'}), items_add=frozenset({'콜라'}), confidence=1.0, lift=1.25), OrderedStatistic(items_base=frozenset({'콜라'}), items_add=frozenset({'맥주'}), confidence=0.5, lift=1.25)]),\n",
       " RelationRecord(items=frozenset({'소주', '오렌지주스'}), support=0.2, ordered_statistics=[OrderedStatistic(items_base=frozenset({'소주'}), items_add=frozenset({'오렌지주스'}), confidence=0.33333333333333337, lift=0.8333333333333334), OrderedStatistic(items_base=frozenset({'오렌지주스'}), items_add=frozenset({'소주'}), confidence=0.5, lift=0.8333333333333334)]),\n",
       " RelationRecord(items=frozenset({'소주', '와인'}), support=0.2, ordered_statistics=[OrderedStatistic(items_base=frozenset({'소주'}), items_add=frozenset({'와인'}), confidence=0.33333333333333337, lift=0.5555555555555557), OrderedStatistic(items_base=frozenset({'와인'}), items_add=frozenset({'소주'}), confidence=0.33333333333333337, lift=0.5555555555555557)]),\n",
       " RelationRecord(items=frozenset({'소주', '콜라'}), support=0.6, ordered_statistics=[OrderedStatistic(items_base=frozenset({'소주'}), items_add=frozenset({'콜라'}), confidence=1.0, lift=1.25), OrderedStatistic(items_base=frozenset({'콜라'}), items_add=frozenset({'소주'}), confidence=0.7499999999999999, lift=1.2499999999999998)]),\n",
       " RelationRecord(items=frozenset({'오렌지주스', '와인'}), support=0.2, ordered_statistics=[OrderedStatistic(items_base=frozenset({'오렌지주스'}), items_add=frozenset({'와인'}), confidence=0.5, lift=0.8333333333333334), OrderedStatistic(items_base=frozenset({'와인'}), items_add=frozenset({'오렌지주스'}), confidence=0.33333333333333337, lift=0.8333333333333334)]),\n",
       " RelationRecord(items=frozenset({'오렌지주스', '콜라'}), support=0.2, ordered_statistics=[OrderedStatistic(items_base=frozenset({'오렌지주스'}), items_add=frozenset({'콜라'}), confidence=0.5, lift=0.625), OrderedStatistic(items_base=frozenset({'콜라'}), items_add=frozenset({'오렌지주스'}), confidence=0.25, lift=0.625)]),\n",
       " RelationRecord(items=frozenset({'콜라', '와인'}), support=0.4, ordered_statistics=[OrderedStatistic(items_base=frozenset({'와인'}), items_add=frozenset({'콜라'}), confidence=0.6666666666666667, lift=0.8333333333333334), OrderedStatistic(items_base=frozenset({'콜라'}), items_add=frozenset({'와인'}), confidence=0.5, lift=0.8333333333333334)]),\n",
       " RelationRecord(items=frozenset({'맥주', '콜라', '소주'}), support=0.2, ordered_statistics=[OrderedStatistic(items_base=frozenset({'맥주', '소주'}), items_add=frozenset({'콜라'}), confidence=1.0, lift=1.25), OrderedStatistic(items_base=frozenset({'맥주', '콜라'}), items_add=frozenset({'소주'}), confidence=0.5, lift=0.8333333333333334), OrderedStatistic(items_base=frozenset({'소주', '콜라'}), items_add=frozenset({'맥주'}), confidence=0.33333333333333337, lift=0.8333333333333334)]),\n",
       " RelationRecord(items=frozenset({'맥주', '콜라', '와인'}), support=0.2, ordered_statistics=[OrderedStatistic(items_base=frozenset({'맥주', '와인'}), items_add=frozenset({'콜라'}), confidence=1.0, lift=1.25), OrderedStatistic(items_base=frozenset({'맥주', '콜라'}), items_add=frozenset({'와인'}), confidence=0.5, lift=0.8333333333333334), OrderedStatistic(items_base=frozenset({'콜라', '와인'}), items_add=frozenset({'맥주'}), confidence=0.5, lift=1.25)]),\n",
       " RelationRecord(items=frozenset({'소주', '오렌지주스', '콜라'}), support=0.2, ordered_statistics=[OrderedStatistic(items_base=frozenset({'소주', '오렌지주스'}), items_add=frozenset({'콜라'}), confidence=1.0, lift=1.25), OrderedStatistic(items_base=frozenset({'소주', '콜라'}), items_add=frozenset({'오렌지주스'}), confidence=0.33333333333333337, lift=0.8333333333333334), OrderedStatistic(items_base=frozenset({'오렌지주스', '콜라'}), items_add=frozenset({'소주'}), confidence=1.0, lift=1.6666666666666667)]),\n",
       " RelationRecord(items=frozenset({'소주', '콜라', '와인'}), support=0.2, ordered_statistics=[OrderedStatistic(items_base=frozenset({'소주', '와인'}), items_add=frozenset({'콜라'}), confidence=1.0, lift=1.25), OrderedStatistic(items_base=frozenset({'소주', '콜라'}), items_add=frozenset({'와인'}), confidence=0.33333333333333337, lift=0.5555555555555557), OrderedStatistic(items_base=frozenset({'콜라', '와인'}), items_add=frozenset({'소주'}), confidence=0.5, lift=0.8333333333333334)])]"
      ]
     },
     "execution_count": 36,
     "metadata": {},
     "output_type": "execute_result"
    }
   ],
   "source": [
    "results"
   ]
  },
  {
   "cell_type": "code",
   "execution_count": 37,
   "metadata": {},
   "outputs": [
    {
     "data": {
      "text/plain": [
       "RelationRecord(items=frozenset({'맥주'}), support=0.4, ordered_statistics=[OrderedStatistic(items_base=frozenset(), items_add=frozenset({'맥주'}), confidence=0.4, lift=1.0)])"
      ]
     },
     "execution_count": 37,
     "metadata": {},
     "output_type": "execute_result"
    }
   ],
   "source": [
    "results[0]"
   ]
  },
  {
   "cell_type": "code",
   "execution_count": 38,
   "metadata": {},
   "outputs": [
    {
     "data": {
      "text/plain": [
       "RelationRecord(items=frozenset({'소주', '콜라'}), support=0.6, ordered_statistics=[OrderedStatistic(items_base=frozenset({'소주'}), items_add=frozenset({'콜라'}), confidence=1.0, lift=1.25), OrderedStatistic(items_base=frozenset({'콜라'}), items_add=frozenset({'소주'}), confidence=0.7499999999999999, lift=1.2499999999999998)])"
      ]
     },
     "execution_count": 38,
     "metadata": {},
     "output_type": "execute_result"
    }
   ],
   "source": [
    "results[10]"
   ]
  },
  {
   "cell_type": "code",
   "execution_count": 39,
   "metadata": {
    "scrolled": false
   },
   "outputs": [
    {
     "name": "stdout",
     "output_type": "stream",
     "text": [
      "lhs \trhs \t\tsupport\t\tconfidence\tlift\n",
      "[]  =>  ['맥주'] \t0.4000\t0.4000\t1.0000\n",
      "[]  =>  ['소주'] \t0.6000\t0.6000\t1.0000\n",
      "[]  =>  ['오렌지주스'] \t0.4000\t0.4000\t1.0000\n",
      "[]  =>  ['와인'] \t0.6000\t0.6000\t1.0000\n",
      "[]  =>  ['콜라'] \t0.8000\t0.8000\t1.0000\n",
      "['맥주']  =>  ['소주'] \t0.2000\t0.5000\t0.8333\n",
      "['소주']  =>  ['맥주'] \t0.2000\t0.3333\t0.8333\n",
      "['맥주']  =>  ['와인'] \t0.2000\t0.5000\t0.8333\n",
      "['와인']  =>  ['맥주'] \t0.2000\t0.3333\t0.8333\n",
      "['맥주']  =>  ['콜라'] \t0.4000\t1.0000\t1.2500\n",
      "['콜라']  =>  ['맥주'] \t0.4000\t0.5000\t1.2500\n",
      "['소주']  =>  ['오렌지주스'] \t0.2000\t0.3333\t0.8333\n",
      "['오렌지주스']  =>  ['소주'] \t0.2000\t0.5000\t0.8333\n",
      "['소주']  =>  ['와인'] \t0.2000\t0.3333\t0.5556\n",
      "['와인']  =>  ['소주'] \t0.2000\t0.3333\t0.5556\n",
      "['소주']  =>  ['콜라'] \t0.6000\t1.0000\t1.2500\n",
      "['콜라']  =>  ['소주'] \t0.6000\t0.7500\t1.2500\n",
      "['오렌지주스']  =>  ['와인'] \t0.2000\t0.5000\t0.8333\n",
      "['와인']  =>  ['오렌지주스'] \t0.2000\t0.3333\t0.8333\n",
      "['오렌지주스']  =>  ['콜라'] \t0.2000\t0.5000\t0.6250\n",
      "['콜라']  =>  ['오렌지주스'] \t0.2000\t0.2500\t0.6250\n",
      "['와인']  =>  ['콜라'] \t0.4000\t0.6667\t0.8333\n",
      "['콜라']  =>  ['와인'] \t0.4000\t0.5000\t0.8333\n",
      "['맥주', '소주']  =>  ['콜라'] \t0.2000\t1.0000\t1.2500\n",
      "['맥주', '콜라']  =>  ['소주'] \t0.2000\t0.5000\t0.8333\n",
      "['소주', '콜라']  =>  ['맥주'] \t0.2000\t0.3333\t0.8333\n",
      "['맥주', '와인']  =>  ['콜라'] \t0.2000\t1.0000\t1.2500\n",
      "['맥주', '콜라']  =>  ['와인'] \t0.2000\t0.5000\t0.8333\n",
      "['콜라', '와인']  =>  ['맥주'] \t0.2000\t0.5000\t1.2500\n",
      "['소주', '오렌지주스']  =>  ['콜라'] \t0.2000\t1.0000\t1.2500\n",
      "['소주', '콜라']  =>  ['오렌지주스'] \t0.2000\t0.3333\t0.8333\n",
      "['오렌지주스', '콜라']  =>  ['소주'] \t0.2000\t1.0000\t1.6667\n",
      "['소주', '와인']  =>  ['콜라'] \t0.2000\t1.0000\t1.2500\n",
      "['소주', '콜라']  =>  ['와인'] \t0.2000\t0.3333\t0.5556\n",
      "['콜라', '와인']  =>  ['소주'] \t0.2000\t0.5000\t0.8333\n"
     ]
    }
   ],
   "source": [
    "print(\"lhs \\trhs \\t\\tsupport\\t\\tconfidence\\tlift\")\n",
    "for row in results:\n",
    "    support = row[1]\n",
    "    ordered_stat = row[2]\n",
    "    for ordered_item in ordered_stat:\n",
    "        lhs = [x for x in ordered_item[0]]\n",
    "        rhs = [x for x in ordered_item[1]]\n",
    "        confidence = ordered_item[2]\n",
    "        lift = ordered_item[3]\n",
    "        print(lhs, \" => \", rhs, \"\\t{:>5.4f}\\t{:>5.4f}\\t{:>5.4f}\".\\\n",
    "              format(support, confidence, lift))\n"
   ]
  },
  {
   "cell_type": "code",
   "execution_count": 40,
   "metadata": {},
   "outputs": [
    {
     "data": {
      "image/png": "[encoded data removed]",
      "text/plain": [
       "<Figure size 432x288 with 1 Axes>"
      ]
     },
     "metadata": {
      "needs_background": "light"
     },
     "output_type": "display_data"
    }
   ],
   "source": [
    "# make_classification함수 - 설정에 따른 분류용 가상 데이터를 생성하는 명령\n",
    "# 인수\n",
    "# n_samples : 표본 데이터의 수, 디폴트 100\n",
    "# n_features : 독립 변수의 수, 디폴트 20\n",
    "# n_informative : 독립 변수 중 종속 변수와 상관 관계가 있는 성분의 수, 디폴트 2\n",
    "# n_redundant : 독립 변수 중 다른 독립 변수의 선형 조합으로 나타나는 성분의 수, \n",
    "#               디폴트 2\n",
    "# n_repeated : 독립 변수 중 단순 중복된 성분의 수, 디폴트 0\n",
    "# n_classes : 종속 변수의 클래스 수, 디폴트 2\n",
    "# n_clusters_per_class : 클래스 당 클러스터의 수, 디폴트 2\n",
    "# weights : 각 클래스에 할당된 표본 수\n",
    "# random_state : 난수 발생 시드\n",
    "# 반환값:\n",
    "# X : [n_samples, n_features] 크기의 배열. 독립 변수\n",
    "# y : [n_samples] 크기의 배열. 종속 변수\n",
    "%matplotlib inline\n",
    "import matplotlib.pyplot as plt\n",
    "from sklearn.datasets import make_classification\n",
    " \n",
    "plt.title(\"Multi-class, two informative features, one cluster\")\n",
    "X, y = make_classification(n_samples=30, n_features=2, n_informative=2,\n",
    "                           n_redundant=0, n_clusters_per_class=1, \n",
    "                           n_classes=3, random_state=123) \n",
    "plt.scatter(X[:, 0], X[:, 1], marker='o', c=y,\n",
    "            s=100, edgecolor='k', linewidth=2) # c:y에서 c는 컬러로 각데이터에 대해 y배열(리스트)를 사용\n",
    "plt.show()"
   ]
  },
  {
   "cell_type": "code",
   "execution_count": 41,
   "metadata": {},
   "outputs": [
    {
     "data": {
      "text/plain": [
       "KMeans(algorithm='auto', copy_x=True, init='random', max_iter=300,\n",
       "    n_clusters=3, n_init=10, n_jobs=None, precompute_distances='auto',\n",
       "    random_state=None, tol=0.0001, verbose=0)"
      ]
     },
     "execution_count": 41,
     "metadata": {},
     "output_type": "execute_result"
    }
   ],
   "source": [
    "from sklearn.cluster import KMeans\n",
    "# 모형 생성. 클러스터 = 3\n",
    "model = KMeans(n_clusters=3, init=\"random\") \n",
    "model.fit(X)"
   ]
  },
  {
   "cell_type": "code",
   "execution_count": 42,
   "metadata": {},
   "outputs": [
    {
     "data": {
      "text/plain": [
       "array([[ 1.44565173,  0.2610318 ],\n",
       "       [-0.55984665,  1.04057827],\n",
       "       [-1.96728067, -0.48772003]])"
      ]
     },
     "execution_count": 42,
     "metadata": {},
     "output_type": "execute_result"
    }
   ],
   "source": [
    "model.cluster_centers_ # 각 클러스터의 중심값"
   ]
  },
  {
   "cell_type": "code",
   "execution_count": 43,
   "metadata": {},
   "outputs": [
    {
     "data": {
      "text/plain": [
       "array([0, 0, 1, 2, 2, 2, 0, 1, 1, 1, 2, 1, 1, 2, 0, 1, 2, 1, 0, 1, 2, 0,\n",
       "       1, 1, 1, 2, 0, 1, 1, 1])"
      ]
     },
     "execution_count": 43,
     "metadata": {},
     "output_type": "execute_result"
    }
   ],
   "source": [
    "pred = model.predict(X) # 데이터가 속하는 클러스터 예측\n",
    "pred"
   ]
  },
  {
   "cell_type": "code",
   "execution_count": 44,
   "metadata": {
    "scrolled": true
   },
   "outputs": [
    {
     "data": {
      "image/png": "[encoded data removed]",
      "text/plain": [
       "<Figure size 432x288 with 1 Axes>"
      ]
     },
     "metadata": {
      "needs_background": "light"
     },
     "output_type": "display_data"
    }
   ],
   "source": [
    "c0, c1, c2 = model.cluster_centers_\n",
    "plt.scatter(X[model.labels_ == 0, 0], X[model.labels_ == 0, 1], \n",
    "            s=100, marker=\"v\", c=\"r\")\n",
    "plt.scatter(X[model.labels_ == 1, 0], X[model.labels_ == 1, 1], \n",
    "            s=100,marker=\"^\", c=\"b\")\n",
    "plt.scatter(X[model.labels_ == 2, 0], X[model.labels_ == 2, 1], \n",
    "            s=100,marker=\"v\", c=\"y\")\n",
    "plt.scatter(c0[0], c0[1], s=200, c=\"r\")\n",
    "plt.scatter(c1[0], c1[1], s=200, c=\"b\")\n",
    "plt.scatter(c2[0], c2[1], s=200, c=\"y\")\n",
    "plt.show()"
   ]
  },
  {
   "cell_type": "code",
   "execution_count": 45,
   "metadata": {
    "scrolled": true
   },
   "outputs": [
    {
     "data": {
      "text/html": [
       "<div>\n",
       "<style scoped>\n",
       "    .dataframe tbody tr th:only-of-type {\n",
       "        vertical-align: middle;\n",
       "    }\n",
       "\n",
       "    .dataframe tbody tr th {\n",
       "        vertical-align: top;\n",
       "    }\n",
       "\n",
       "    .dataframe thead th {\n",
       "        text-align: right;\n",
       "    }\n",
       "</style>\n",
       "<table border=\"1\" class=\"dataframe\">\n",
       "  <thead>\n",
       "    <tr style=\"text-align: right;\">\n",
       "      <th></th>\n",
       "      <th>x0</th>\n",
       "      <th>x1</th>\n",
       "      <th>d0</th>\n",
       "      <th>d1</th>\n",
       "      <th>d2</th>\n",
       "      <th>class</th>\n",
       "    </tr>\n",
       "  </thead>\n",
       "  <tbody>\n",
       "    <tr>\n",
       "      <th>0</th>\n",
       "      <td>1.291320</td>\n",
       "      <td>-2.083269</td>\n",
       "      <td>2.349375</td>\n",
       "      <td>3.631148</td>\n",
       "      <td>3.628258</td>\n",
       "      <td>0.0</td>\n",
       "    </tr>\n",
       "    <tr>\n",
       "      <th>1</th>\n",
       "      <td>0.677549</td>\n",
       "      <td>0.926385</td>\n",
       "      <td>1.016207</td>\n",
       "      <td>1.242654</td>\n",
       "      <td>2.999136</td>\n",
       "      <td>0.0</td>\n",
       "    </tr>\n",
       "    <tr>\n",
       "      <th>2</th>\n",
       "      <td>0.248341</td>\n",
       "      <td>0.952078</td>\n",
       "      <td>1.382425</td>\n",
       "      <td>0.813018</td>\n",
       "      <td>2.642347</td>\n",
       "      <td>1.0</td>\n",
       "    </tr>\n",
       "    <tr>\n",
       "      <th>3</th>\n",
       "      <td>-2.218453</td>\n",
       "      <td>0.436127</td>\n",
       "      <td>3.668286</td>\n",
       "      <td>1.765315</td>\n",
       "      <td>0.957383</td>\n",
       "      <td>2.0</td>\n",
       "    </tr>\n",
       "    <tr>\n",
       "      <th>4</th>\n",
       "      <td>-3.898155</td>\n",
       "      <td>1.089007</td>\n",
       "      <td>5.407570</td>\n",
       "      <td>3.338659</td>\n",
       "      <td>2.492858</td>\n",
       "      <td>2.0</td>\n",
       "    </tr>\n",
       "    <tr>\n",
       "      <th>5</th>\n",
       "      <td>-2.080478</td>\n",
       "      <td>-1.805009</td>\n",
       "      <td>4.086822</td>\n",
       "      <td>3.226405</td>\n",
       "      <td>1.322144</td>\n",
       "      <td>2.0</td>\n",
       "    </tr>\n",
       "    <tr>\n",
       "      <th>6</th>\n",
       "      <td>1.115515</td>\n",
       "      <td>0.977966</td>\n",
       "      <td>0.789294</td>\n",
       "      <td>1.676531</td>\n",
       "      <td>3.413483</td>\n",
       "      <td>0.0</td>\n",
       "    </tr>\n",
       "    <tr>\n",
       "      <th>7</th>\n",
       "      <td>-0.203825</td>\n",
       "      <td>0.199599</td>\n",
       "      <td>1.650621</td>\n",
       "      <td>0.913234</td>\n",
       "      <td>1.892666</td>\n",
       "      <td>1.0</td>\n",
       "    </tr>\n",
       "    <tr>\n",
       "      <th>8</th>\n",
       "      <td>0.420718</td>\n",
       "      <td>1.095145</td>\n",
       "      <td>1.321451</td>\n",
       "      <td>0.982081</td>\n",
       "      <td>2.864960</td>\n",
       "      <td>1.0</td>\n",
       "    </tr>\n",
       "    <tr>\n",
       "      <th>9</th>\n",
       "      <td>-0.457603</td>\n",
       "      <td>1.059832</td>\n",
       "      <td>2.064089</td>\n",
       "      <td>0.104040</td>\n",
       "      <td>2.161954</td>\n",
       "      <td>1.0</td>\n",
       "    </tr>\n",
       "    <tr>\n",
       "      <th>10</th>\n",
       "      <td>-1.972113</td>\n",
       "      <td>-0.964076</td>\n",
       "      <td>3.630703</td>\n",
       "      <td>2.452169</td>\n",
       "      <td>0.476380</td>\n",
       "      <td>2.0</td>\n",
       "    </tr>\n",
       "    <tr>\n",
       "      <th>11</th>\n",
       "      <td>-1.675510</td>\n",
       "      <td>1.868579</td>\n",
       "      <td>3.510820</td>\n",
       "      <td>1.389349</td>\n",
       "      <td>2.374295</td>\n",
       "      <td>1.0</td>\n",
       "    </tr>\n",
       "    <tr>\n",
       "      <th>12</th>\n",
       "      <td>-0.212238</td>\n",
       "      <td>0.807515</td>\n",
       "      <td>1.745636</td>\n",
       "      <td>0.418509</td>\n",
       "      <td>2.181240</td>\n",
       "      <td>1.0</td>\n",
       "    </tr>\n",
       "    <tr>\n",
       "      <th>13</th>\n",
       "      <td>-0.800299</td>\n",
       "      <td>-0.411600</td>\n",
       "      <td>2.344510</td>\n",
       "      <td>1.471951</td>\n",
       "      <td>1.169462</td>\n",
       "      <td>2.0</td>\n",
       "    </tr>\n",
       "    <tr>\n",
       "      <th>14</th>\n",
       "      <td>0.841133</td>\n",
       "      <td>-0.990142</td>\n",
       "      <td>1.389560</td>\n",
       "      <td>2.467098</td>\n",
       "      <td>2.853002</td>\n",
       "      <td>0.0</td>\n",
       "    </tr>\n",
       "    <tr>\n",
       "      <th>15</th>\n",
       "      <td>0.483051</td>\n",
       "      <td>1.063042</td>\n",
       "      <td>1.252925</td>\n",
       "      <td>1.043140</td>\n",
       "      <td>2.899825</td>\n",
       "      <td>1.0</td>\n",
       "    </tr>\n",
       "    <tr>\n",
       "      <th>16</th>\n",
       "      <td>-1.137411</td>\n",
       "      <td>-0.541306</td>\n",
       "      <td>2.704803</td>\n",
       "      <td>1.684024</td>\n",
       "      <td>0.831598</td>\n",
       "      <td>2.0</td>\n",
       "    </tr>\n",
       "    <tr>\n",
       "      <th>17</th>\n",
       "      <td>-1.143533</td>\n",
       "      <td>1.461336</td>\n",
       "      <td>2.853876</td>\n",
       "      <td>0.719533</td>\n",
       "      <td>2.115982</td>\n",
       "      <td>1.0</td>\n",
       "    </tr>\n",
       "    <tr>\n",
       "      <th>18</th>\n",
       "      <td>2.179615</td>\n",
       "      <td>0.980185</td>\n",
       "      <td>1.027562</td>\n",
       "      <td>2.740128</td>\n",
       "      <td>4.399033</td>\n",
       "      <td>0.0</td>\n",
       "    </tr>\n",
       "    <tr>\n",
       "      <th>19</th>\n",
       "      <td>-1.124642</td>\n",
       "      <td>1.324199</td>\n",
       "      <td>2.781499</td>\n",
       "      <td>0.632009</td>\n",
       "      <td>1.998272</td>\n",
       "      <td>1.0</td>\n",
       "    </tr>\n",
       "    <tr>\n",
       "      <th>20</th>\n",
       "      <td>-2.887669</td>\n",
       "      <td>-0.933535</td>\n",
       "      <td>4.494960</td>\n",
       "      <td>3.052193</td>\n",
       "      <td>1.022676</td>\n",
       "      <td>2.0</td>\n",
       "    </tr>\n",
       "    <tr>\n",
       "      <th>21</th>\n",
       "      <td>1.551626</td>\n",
       "      <td>1.022206</td>\n",
       "      <td>0.768516</td>\n",
       "      <td>2.111552</td>\n",
       "      <td>3.829175</td>\n",
       "      <td>0.0</td>\n",
       "    </tr>\n",
       "    <tr>\n",
       "      <th>22</th>\n",
       "      <td>-0.557680</td>\n",
       "      <td>1.044874</td>\n",
       "      <td>2.151220</td>\n",
       "      <td>0.004811</td>\n",
       "      <td>2.082263</td>\n",
       "      <td>1.0</td>\n",
       "    </tr>\n",
       "    <tr>\n",
       "      <th>23</th>\n",
       "      <td>-1.118822</td>\n",
       "      <td>0.838266</td>\n",
       "      <td>2.628635</td>\n",
       "      <td>0.594461</td>\n",
       "      <td>1.574205</td>\n",
       "      <td>1.0</td>\n",
       "    </tr>\n",
       "    <tr>\n",
       "      <th>24</th>\n",
       "      <td>-1.014724</td>\n",
       "      <td>0.448552</td>\n",
       "      <td>2.467511</td>\n",
       "      <td>0.746598</td>\n",
       "      <td>1.335653</td>\n",
       "      <td>1.0</td>\n",
       "    </tr>\n",
       "    <tr>\n",
       "      <th>25</th>\n",
       "      <td>-0.743667</td>\n",
       "      <td>-0.771368</td>\n",
       "      <td>2.420530</td>\n",
       "      <td>1.821247</td>\n",
       "      <td>1.256060</td>\n",
       "      <td>2.0</td>\n",
       "    </tr>\n",
       "    <tr>\n",
       "      <th>26</th>\n",
       "      <td>2.462803</td>\n",
       "      <td>0.993891</td>\n",
       "      <td>1.253667</td>\n",
       "      <td>3.023010</td>\n",
       "      <td>4.671275</td>\n",
       "      <td>0.0</td>\n",
       "    </tr>\n",
       "    <tr>\n",
       "      <th>27</th>\n",
       "      <td>-0.910400</td>\n",
       "      <td>0.982463</td>\n",
       "      <td>2.464030</td>\n",
       "      <td>0.355338</td>\n",
       "      <td>1.810645</td>\n",
       "      <td>1.0</td>\n",
       "    </tr>\n",
       "    <tr>\n",
       "      <th>28</th>\n",
       "      <td>0.003198</td>\n",
       "      <td>1.076578</td>\n",
       "      <td>1.657042</td>\n",
       "      <td>0.564194</td>\n",
       "      <td>2.515912</td>\n",
       "      <td>1.0</td>\n",
       "    </tr>\n",
       "    <tr>\n",
       "      <th>29</th>\n",
       "      <td>-1.134029</td>\n",
       "      <td>1.386615</td>\n",
       "      <td>2.814549</td>\n",
       "      <td>0.670393</td>\n",
       "      <td>2.051205</td>\n",
       "      <td>1.0</td>\n",
       "    </tr>\n",
       "  </tbody>\n",
       "</table>\n",
       "</div>"
      ],
      "text/plain": [
       "          x0        x1        d0        d1        d2  class\n",
       "0   1.291320 -2.083269  2.349375  3.631148  3.628258    0.0\n",
       "1   0.677549  0.926385  1.016207  1.242654  2.999136    0.0\n",
       "2   0.248341  0.952078  1.382425  0.813018  2.642347    1.0\n",
       "3  -2.218453  0.436127  3.668286  1.765315  0.957383    2.0\n",
       "4  -3.898155  1.089007  5.407570  3.338659  2.492858    2.0\n",
       "5  -2.080478 -1.805009  4.086822  3.226405  1.322144    2.0\n",
       "6   1.115515  0.977966  0.789294  1.676531  3.413483    0.0\n",
       "7  -0.203825  0.199599  1.650621  0.913234  1.892666    1.0\n",
       "8   0.420718  1.095145  1.321451  0.982081  2.864960    1.0\n",
       "9  -0.457603  1.059832  2.064089  0.104040  2.161954    1.0\n",
       "10 -1.972113 -0.964076  3.630703  2.452169  0.476380    2.0\n",
       "11 -1.675510  1.868579  3.510820  1.389349  2.374295    1.0\n",
       "12 -0.212238  0.807515  1.745636  0.418509  2.181240    1.0\n",
       "13 -0.800299 -0.411600  2.344510  1.471951  1.169462    2.0\n",
       "14  0.841133 -0.990142  1.389560  2.467098  2.853002    0.0\n",
       "15  0.483051  1.063042  1.252925  1.043140  2.899825    1.0\n",
       "16 -1.137411 -0.541306  2.704803  1.684024  0.831598    2.0\n",
       "17 -1.143533  1.461336  2.853876  0.719533  2.115982    1.0\n",
       "18  2.179615  0.980185  1.027562  2.740128  4.399033    0.0\n",
       "19 -1.124642  1.324199  2.781499  0.632009  1.998272    1.0\n",
       "20 -2.887669 -0.933535  4.494960  3.052193  1.022676    2.0\n",
       "21  1.551626  1.022206  0.768516  2.111552  3.829175    0.0\n",
       "22 -0.557680  1.044874  2.151220  0.004811  2.082263    1.0\n",
       "23 -1.118822  0.838266  2.628635  0.594461  1.574205    1.0\n",
       "24 -1.014724  0.448552  2.467511  0.746598  1.335653    1.0\n",
       "25 -0.743667 -0.771368  2.420530  1.821247  1.256060    2.0\n",
       "26  2.462803  0.993891  1.253667  3.023010  4.671275    0.0\n",
       "27 -0.910400  0.982463  2.464030  0.355338  1.810645    1.0\n",
       "28  0.003198  1.076578  1.657042  0.564194  2.515912    1.0\n",
       "29 -1.134029  1.386615  2.814549  0.670393  2.051205    1.0"
      ]
     },
     "execution_count": 45,
     "metadata": {},
     "output_type": "execute_result"
    }
   ],
   "source": [
    "import pandas as pd\n",
    "import numpy as np\n",
    "df = pd.DataFrame(np.hstack([X,\n",
    "         np.linalg.norm(X - c0, axis=1)[:, np.newaxis], # 첫번째 클러스터 중심값과의 거리\n",
    "         np.linalg.norm(X - c1, axis=1)[:, np.newaxis], # 두번째 클러스터 중심값과의 거리\n",
    "         np.linalg.norm(X - c2, axis=1)[:, np.newaxis], # 세번째 클러스터 중심값과의 거리\n",
    "         model.labels_[:, np.newaxis]]),\n",
    "      columns=[\"x0\", \"x1\", \"d0\", \"d1\", \"d2\", \"class\"])\n",
    "df"
   ]
  },
  {
   "cell_type": "code",
   "execution_count": 46,
   "metadata": {},
   "outputs": [],
   "source": [
    "def plot_clusters(model, data):\n",
    "    c0, c1, c2 = model.cluster_centers_\n",
    "    plt.scatter(data[model.labels_ == 0, 0], X[model.labels_ == 0, 1],\n",
    "                s=20, marker=\"v\", c=\"r\")\n",
    "    plt.scatter(data[model.labels_ == 1, 0], X[model.labels_ == 1, 1], \n",
    "                s=20, marker=\"^\", c=\"b\")\n",
    "    plt.scatter(X[model.labels_ == 2, 0], X[model.labels_ == 2, 1], \n",
    "            s=20,marker=\"v\", c=\"y\")\n",
    "    plt.scatter(c0[0], c0[1], s=40, c=\"r\")\n",
    "    plt.scatter(c1[0], c1[1], s=40, c=\"b\")\n",
    "    plt.scatter(c2[0], c2[1], s=40, c=\"y\")"
   ]
  },
  {
   "cell_type": "code",
   "execution_count": 47,
   "metadata": {},
   "outputs": [
    {
     "data": {
      "image/png": "[encoded data removed]",
      "text/plain": [
       "<Figure size 720x720 with 6 Axes>"
      ]
     },
     "metadata": {
      "needs_background": "light"
     },
     "output_type": "display_data"
    }
   ],
   "source": [
    "plt.figure(figsize=(10,10))\n",
    "model1 = KMeans(n_clusters=3, init=\"random\", n_init=1,\n",
    "                max_iter=1, random_state=1)\n",
    "model1.fit(X)\n",
    "plt.subplot(3,2,1)\n",
    "plot_clusters(model1, X)\n",
    "\n",
    "model2 = KMeans(n_clusters=3, init=\"random\", n_init=1,\n",
    "                max_iter=2, random_state=1)\n",
    "model2.fit(X)\n",
    "plt.subplot(3,2,2)\n",
    "plot_clusters(model2, X)\n",
    "\n",
    "model3 = KMeans(n_clusters=3, init=\"random\", n_init=1,\n",
    "                max_iter=3, random_state=1)\n",
    "model3.fit(X)\n",
    "plt.subplot(3,2,3)\n",
    "plot_clusters(model3, X)\n",
    "\n",
    "model4 = KMeans(n_clusters=3, init=\"random\", n_init=1,\n",
    "                max_iter=4, random_state=1)\n",
    "model4.fit(X)\n",
    "plt.subplot(3,2,4)\n",
    "plot_clusters(model4, X)\n",
    "\n",
    "model5 = KMeans(n_clusters=3, init=\"random\", n_init=1,\n",
    "                max_iter=5, random_state=1)\n",
    "model5.fit(X)\n",
    "plt.subplot(3,2,5)\n",
    "plot_clusters(model5, X)\n",
    "\n",
    "model6 = KMeans(n_clusters=3, init=\"random\", n_init=1,\n",
    "                max_iter=6, random_state=1)\n",
    "model6.fit(X)\n",
    "plt.subplot(3,2,6)\n",
    "plot_clusters(model6, X)\n",
    "plt.show()"
   ]
  },
  {
   "cell_type": "code",
   "execution_count": 48,
   "metadata": {},
   "outputs": [],
   "source": [
    "import statsmodels.api as sm\n",
    "iris = sm.datasets.get_rdataset(\"iris\", package=\"datasets\")\n",
    "iris_df = iris.data"
   ]
  },
  {
   "cell_type": "code",
   "execution_count": 49,
   "metadata": {},
   "outputs": [
    {
     "data": {
      "text/plain": [
       "0      0\n",
       "1      0\n",
       "2      0\n",
       "3      0\n",
       "4      0\n",
       "5      0\n",
       "6      0\n",
       "7      0\n",
       "8      0\n",
       "9      0\n",
       "10     0\n",
       "11     0\n",
       "12     0\n",
       "13     0\n",
       "14     0\n",
       "15     0\n",
       "16     0\n",
       "17     0\n",
       "18     0\n",
       "19     0\n",
       "20     0\n",
       "21     0\n",
       "22     0\n",
       "23     0\n",
       "24     0\n",
       "25     0\n",
       "26     0\n",
       "27     0\n",
       "28     0\n",
       "29     0\n",
       "      ..\n",
       "120    2\n",
       "121    2\n",
       "122    2\n",
       "123    2\n",
       "124    2\n",
       "125    2\n",
       "126    2\n",
       "127    2\n",
       "128    2\n",
       "129    2\n",
       "130    2\n",
       "131    2\n",
       "132    2\n",
       "133    2\n",
       "134    2\n",
       "135    2\n",
       "136    2\n",
       "137    2\n",
       "138    2\n",
       "139    2\n",
       "140    2\n",
       "141    2\n",
       "142    2\n",
       "143    2\n",
       "144    2\n",
       "145    2\n",
       "146    2\n",
       "147    2\n",
       "148    2\n",
       "149    2\n",
       "Name: Species, Length: 150, dtype: int32"
      ]
     },
     "execution_count": 49,
     "metadata": {},
     "output_type": "execute_result"
    }
   ],
   "source": [
    "from sklearn.preprocessing import LabelEncoder\n",
    "le = LabelEncoder()\n",
    "le.fit(iris_df.Species)\n",
    "iris_df.Species = le.transform(iris_df.Species)\n",
    "iris_df.Species"
   ]
  },
  {
   "cell_type": "code",
   "execution_count": 50,
   "metadata": {},
   "outputs": [],
   "source": [
    "# 파이썬으로 계층적 클러스터링을 하려면 SciPy 패키지의 linkage 명령을 사용한다.\n",
    "# method : 단일 연결법(single linkage), 완전 연결법(complete linkage), 평균 연결법(average linkage)\n",
    "# 단일 연결법(single linkage) \n",
    "# : 두 클러스터에서 가장 가까운 거리를 사용하는 방식\n",
    "# 완전 연결법(complete linkage) \n",
    "# : 두 클러스터상에서 가장 먼 거리를 이용해서 측정하는 방식\n",
    "# 평균 연결법(average linkage)\n",
    "# : 각 클러스터내의 각 점에서 다른 클러스터내의 모든 점사이의 거리에 대한 평균을 사용하는 방식\n",
    "from scipy.cluster.hierarchy import linkage\n",
    "clustering = linkage(iris_df, method='complete')"
   ]
  },
  {
   "cell_type": "code",
   "execution_count": 51,
   "metadata": {},
   "outputs": [
    {
     "data": {
      "image/png": "[encoded data removed]",
      "text/plain": [
       "<Figure size 2880x1440 with 1 Axes>"
      ]
     },
     "metadata": {
      "needs_background": "light"
     },
     "output_type": "display_data"
    }
   ],
   "source": [
    "import matplotlib.pyplot as plt\n",
    "%matplotlib inline\n",
    "\n",
    "plt.figure(figsize=(40,20))\n",
    "from scipy.cluster.hierarchy import dendrogram\n",
    "dendrogram(clustering, labels = iris_df.Species.values) # labels : 0, 1, 2\n",
    "plt.show()"
   ]
  },
  {
   "cell_type": "code",
   "execution_count": 57,
   "metadata": {
    "scrolled": false
   },
   "outputs": [
    {
     "data": {
      "text/plain": [
       "array([1, 1, 1, 1, 1, 1, 1, 1, 1, 1, 1, 1, 1, 1, 1, 1, 1, 1, 1, 1, 1, 1,\n",
       "       1, 1, 1, 1, 1, 1, 1, 1, 1, 1, 1, 1, 1, 1, 1, 1, 1, 1, 1, 1, 1, 1,\n",
       "       1, 1, 1, 1, 1, 1, 3, 3, 3, 3, 3, 3, 3, 3, 3, 3, 3, 3, 3, 3, 3, 3,\n",
       "       3, 3, 3, 3, 3, 3, 3, 3, 3, 3, 3, 3, 3, 3, 3, 3, 3, 3, 3, 3, 3, 3,\n",
       "       3, 3, 3, 3, 3, 3, 3, 3, 3, 3, 3, 3, 2, 3, 2, 2, 2, 2, 3, 2, 2, 2,\n",
       "       2, 3, 2, 3, 3, 2, 2, 2, 2, 3, 2, 3, 2, 3, 2, 2, 3, 3, 2, 2, 2, 2,\n",
       "       2, 3, 3, 2, 2, 2, 3, 2, 2, 2, 3, 2, 2, 2, 3, 2, 2, 3], dtype=int32)"
      ]
     },
     "execution_count": 57,
     "metadata": {},
     "output_type": "execute_result"
    }
   ],
   "source": [
    "from scipy.cluster.hierarchy import fcluster\n",
    "predict = fcluster(clustering,3, criterion='distance') \n",
    "predict"
   ]
  },
  {
   "cell_type": "code",
   "execution_count": 60,
   "metadata": {},
   "outputs": [
    {
     "data": {
      "text/plain": [
       "array([0, 0, 0, 0, 0, 0, 0, 0, 0, 0, 0, 0, 0, 0, 0, 0, 0, 0, 0, 0, 0, 0,\n",
       "       0, 0, 0, 0, 0, 0, 0, 0, 0, 0, 0, 0, 0, 0, 0, 0, 0, 0, 0, 0, 0, 0,\n",
       "       0, 0, 0, 0, 0, 0, 1, 1, 1, 1, 1, 1, 1, 1, 1, 1, 1, 1, 1, 1, 1, 1,\n",
       "       1, 1, 1, 1, 1, 1, 1, 1, 1, 1, 1, 1, 1, 1, 1, 1, 1, 1, 1, 1, 1, 1,\n",
       "       1, 1, 1, 1, 1, 1, 1, 1, 1, 1, 1, 1, 2, 1, 2, 2, 2, 2, 1, 2, 2, 2,\n",
       "       2, 1, 2, 1, 1, 2, 2, 2, 2, 1, 2, 1, 2, 1, 2, 2, 1, 1, 2, 2, 2, 2,\n",
       "       2, 1, 1, 2, 2, 2, 1, 2, 2, 2, 1, 2, 2, 2, 1, 2, 2, 1], dtype=int64)"
      ]
     },
     "execution_count": 60,
     "metadata": {},
     "output_type": "execute_result"
    }
   ],
   "source": [
    "import numpy as np\n",
    "adjusted_pred = np.choose((predict-1), [0, 2, 1]).astype(np.int64)\n",
    "adjusted_pred"
   ]
  },
  {
   "cell_type": "code",
   "execution_count": 61,
   "metadata": {},
   "outputs": [
    {
     "name": "stdout",
     "output_type": "stream",
     "text": [
      "Predicted   setosa  versicolor  virginica  All\n",
      "True                                          \n",
      "setosa          50           0          0   50\n",
      "versicolor       0          50          0   50\n",
      "virginica        0          16         34   50\n",
      "All             50          66         34  150\n"
     ]
    }
   ],
   "source": [
    "import pandas as pd\n",
    "pred_name = le.inverse_transform(adjusted_pred)\n",
    "origin_name = le.inverse_transform(iris_df.Species.values)\n",
    "ct = pd.crosstab(origin_name, pred_name,\n",
    "                 rownames=[\"True\"], colnames=[\"Predicted\"], \n",
    "                 margins=True)\n",
    "print(ct)"
   ]
  },
  {
   "cell_type": "code",
   "execution_count": 62,
   "metadata": {
    "scrolled": true
   },
   "outputs": [
    {
     "data": {
      "image/png": "[encoded data removed]",
      "text/plain": [
       "<Figure size 432x288 with 1 Axes>"
      ]
     },
     "metadata": {
      "needs_background": "light"
     },
     "output_type": "display_data"
    }
   ],
   "source": [
    "import seaborn as sns\n",
    "ax = sns.scatterplot(x=\"Petal.Length\", y=\"Petal.Width\", \n",
    "                     hue=le.inverse_transform(predict-1), \n",
    "                     style=le.inverse_transform(predict-1), \n",
    "                     data=iris_df)"
   ]
  },
  {
   "cell_type": "code",
   "execution_count": 63,
   "metadata": {},
   "outputs": [
    {
     "data": {
      "text/plain": [
       "0.7322981167185345"
      ]
     },
     "execution_count": 63,
     "metadata": {},
     "output_type": "execute_result"
    }
   ],
   "source": [
    "# rand_index\n",
    "# Rand index는 0부터 1까지의 값을 가지고 1이 가장 좋은 성능을 뜻한다. \n",
    "# 랜드 인덱스는 모든 클러스터 쌍을 고려하여 예측 된 클러스터링과 \n",
    "# 실제 클러스터링에서 동일하거나 다른 클러스터에 할당된 쌍을 \n",
    "# 고려하여 두 클러스터링 간의 유사성 측정 계산\n",
    "\n",
    "# 클러스터링 성능평가 기준1\n",
    "# adjusted Rand index:\n",
    "# Rand index의 기댓값을 원래의 값에서 빼서 기댓값과 분산을 재조정한\n",
    "# 것이다.\n",
    "\n",
    "# 정확도에 대한 유사도 측정.\n",
    "from sklearn.metrics import adjusted_rand_score \n",
    "adjusted_rand_score(labels_true=iris_df.Species, labels_pred=predict)"
   ]
  },
  {
   "cell_type": "code",
   "execution_count": 64,
   "metadata": {},
   "outputs": [
    {
     "name": "stderr",
     "output_type": "stream",
     "text": [
      "c:\\machine_learning\\python_source\\pythontest\\venv\\lib\\site-packages\\sklearn\\metrics\\cluster\\supervised.py:732: FutureWarning: The behavior of AMI will change in version 0.22. To match the behavior of 'v_measure_score', AMI will use average_method='arithmetic' by default.\n",
      "  FutureWarning)\n"
     ]
    },
    {
     "data": {
      "text/plain": [
       "0.7753959316904311"
      ]
     },
     "execution_count": 64,
     "metadata": {},
     "output_type": "execute_result"
    }
   ],
   "source": [
    "# mutual information \n",
    "# 두 확률변수간의 상호 의존성을 측정한 값으로 두 확률변수가 \n",
    "# 독립적이면 0이며 최소값이다.\n",
    "# 클러스터의 갯수가 많아질수록 mutual information이 증가하므로 \n",
    "# 올바른 비교가 어렵다. \n",
    "\n",
    "# 클러스터링 성능평가 기준2\n",
    "# adjusted mutual information\n",
    "# mutual information 기댓값을 빼서 재조정한 것\n",
    "from sklearn.metrics import adjusted_mutual_info_score\n",
    "adjusted_mutual_info_score(labels_true=iris_df.Species, \n",
    "                labels_pred=predict)"
   ]
  },
  {
   "cell_type": "code",
   "execution_count": 65,
   "metadata": {},
   "outputs": [
    {
     "data": {
      "text/plain": [
       "0.778176865951397"
      ]
     },
     "execution_count": 65,
     "metadata": {},
     "output_type": "execute_result"
    }
   ],
   "source": [
    "from sklearn.metrics import homogeneity_score\n",
    "# homogeneity: 각 클러스터가 단일 클래스의 데이터만 가지는 정도\n",
    "homogeneity_score(labels_true=iris_df.Species, labels_pred=predict)"
   ]
  },
  {
   "cell_type": "code",
   "execution_count": 66,
   "metadata": {},
   "outputs": [
    {
     "data": {
      "text/plain": [
       "0.8035885406231501"
      ]
     },
     "execution_count": 66,
     "metadata": {},
     "output_type": "execute_result"
    }
   ],
   "source": [
    "from sklearn.metrics import completeness_score\n",
    "# completeness: 같은 클래스의 값이 하나의 클러스터로 모여 있는 정도\n",
    "completeness_score(labels_true=iris_df.Species, labels_pred=predict)"
   ]
  },
  {
   "cell_type": "code",
   "execution_count": 67,
   "metadata": {},
   "outputs": [
    {
     "data": {
      "text/plain": [
       "0.7906785790830966"
      ]
     },
     "execution_count": 67,
     "metadata": {},
     "output_type": "execute_result"
    }
   ],
   "source": [
    "from sklearn.metrics import v_measure_score\n",
    "# V-measure: homogeneity와 completeness의 조화 평균\n",
    "v_measure_score(labels_true=iris_df.Species, labels_pred=predict)"
   ]
  },
  {
   "cell_type": "code",
   "execution_count": null,
   "metadata": {},
   "outputs": [],
   "source": []
  }
 ],
 "metadata": {
  "kernelspec": {
   "display_name": "Python 3",
   "language": "python",
   "name": "python3"
  },
  "language_info": {
   "codemirror_mode": {
    "name": "ipython",
    "version": 3
   },
   "file_extension": ".py",
   "mimetype": "text/x-python",
   "name": "python",
   "nbconvert_exporter": "python",
   "pygments_lexer": "ipython3",
   "version": "3.7.3"
  }
 },
 "nbformat": 4,
 "nbformat_minor": 2
}
